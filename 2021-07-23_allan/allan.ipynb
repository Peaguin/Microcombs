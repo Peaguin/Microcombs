# -*- coding: utf-8 -*-
"""
Created on Fri Jul 23 17:44:20 2021

@author: Confotec
"""
import allantools as allan
import pandas as pd
import datetime

data = pd.read_csv("D:\\2021_07_cwlaser_test\\2021_07_23cwlaser_1200nm.csv")

time = data.iloc[:, 0].values
frequency = data.iloc[:, 1].values

time = pd.DatetimeIndex(time)
